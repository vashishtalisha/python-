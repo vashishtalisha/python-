{
 "cells": [
  {
   "cell_type": "code",
   "execution_count": 46,
   "id": "8a15d38f",
   "metadata": {},
   "outputs": [],
   "source": [
    "#10,11,14 left"
   ]
  },
  {
   "cell_type": "code",
   "execution_count": 44,
   "id": "36f5a716",
   "metadata": {},
   "outputs": [
    {
     "name": "stdout",
     "output_type": "stream",
     "text": [
      "[3, 6, 9, 12, 15]\n"
     ]
    }
   ],
   "source": [
    "#1.Write a Python program to triple all numbers in a given list of integers. Use Python map\n",
    "a=[1,2,3,4,5]\n",
    "print(list(map(lambda x:x*3,a)))"
   ]
  },
  {
   "cell_type": "code",
   "execution_count": 3,
   "id": "c82d17e3",
   "metadata": {},
   "outputs": [
    {
     "name": "stdout",
     "output_type": "stream",
     "text": [
      "[6, 9, 12, 15, 18]\n"
     ]
    }
   ],
   "source": [
    "#2. Write a Python program to add three given lists using Python map and lambda.\n",
    "a=[1,2,3,4,5]\n",
    "b=[2,3,4,5,6]\n",
    "c=[3,4,5,6,7]\n",
    "print(list(map(lambda i:sum(i),zip(a,b,c))))"
   ]
  },
  {
   "cell_type": "code",
   "execution_count": 8,
   "id": "75f7aa30",
   "metadata": {},
   "outputs": [
    {
     "name": "stdout",
     "output_type": "stream",
     "text": [
      "[['R', 'e', 'd'], ['B', 'l', 'u', 'e'], ['B', 'l', 'a', 'c', 'k'], ['W', 'h', 'i', 't', 'e'], ['P', 'i', 'n', 'k']]\n"
     ]
    }
   ],
   "source": [
    "#3. Write a Python program to listify the list of given strings individually using Python map.\n",
    "# Original list: \n",
    "# ['Red', 'Blue', 'Black', 'White', 'Pink']\n",
    "\n",
    "# After listify the list of strings are:\n",
    "# [['R', 'e', 'd'], ['B', 'l', 'u', 'e'], ['B', 'l', 'a', 'c', 'k'], ['W', 'h', 'i', 't', 'e'], ['P', 'i', 'n', 'k']]\n",
    "a=['Red', 'Blue', 'Black', 'White', 'Pink']\n",
    "def listify(s):#yahan s item of list hai\n",
    "    return list(s)#har item string vali list mein convert ho jaegi\n",
    "print(list(map(listify,a)))"
   ]
  },
  {
   "cell_type": "code",
   "execution_count": 9,
   "id": "d0c91c5c",
   "metadata": {},
   "outputs": [
    {
     "name": "stdout",
     "output_type": "stream",
     "text": [
      "[10, 400, 27000, 2560000, 312500000, 46656000000, 8235430000000, 1677721600000000, 387420489000000000, 100000000000000000000]\n"
     ]
    }
   ],
   "source": [
    "#4. Write a Python program to create a list containing the power of said number in bases raised to the \n",
    "#corresponding number in the index using Python map.\n",
    "bases_num = [10, 20, 30, 40, 50, 60, 70, 80, 90, 100]\n",
    "index = [1, 2, 3, 4, 5, 6, 7, 8, 9, 10]\n",
    "print(list(map(lambda x,y:x**y,bases_num,index)))"
   ]
  },
  {
   "cell_type": "code",
   "execution_count": 10,
   "id": "076449a7",
   "metadata": {},
   "outputs": [
    {
     "name": "stdout",
     "output_type": "stream",
     "text": [
      "[1, 4, 25, 9, 16]\n"
     ]
    }
   ],
   "source": [
    "#5. Write a Python program to square the elements of a list using the map() function\n",
    "a=[1,2,5,3,4]\n",
    "print(list(map(lambda x:x**2,a)))"
   ]
  },
  {
   "cell_type": "code",
   "execution_count": 11,
   "id": "3e4495d9",
   "metadata": {},
   "outputs": [
    {
     "name": "stdout",
     "output_type": "stream",
     "text": [
      "{('O', 'o'), ('B', 'b'), ('E', 'e'), ('F', 'f'), ('I', 'i'), ('U', 'u'), ('A', 'a')}\n"
     ]
    }
   ],
   "source": [
    "#6. Write a Python program to convert all the characters into uppercase and lowercase and eliminate duplicate\n",
    "#letters from a given sequence. Use the map() function.\n",
    "# Original Characters:\n",
    "#  {'f', 'b', 'U', 'i', 'o', 'E', 'a','A'}\n",
    "\n",
    "# After converting above characters in upper and lower cases\n",
    "# and eliminating duplicate letters:\n",
    "# {('U', 'u'), ('O', 'o'), ('A', 'a'), ('B', 'b'), ('F', 'f'), ('I', 'i'), ('E', 'e')}\n",
    "a= {'f', 'b', 'U', 'i', 'o', 'E', 'a','A'}\n",
    "def change_cases(s):\n",
    "    return str(s).upper(), str(s).lower()\n",
    "result = map(change_cases, a)\n",
    "print(set(result))"
   ]
  },
  {
   "cell_type": "code",
   "execution_count": 15,
   "id": "4d35258a",
   "metadata": {},
   "outputs": [
    {
     "name": "stdout",
     "output_type": "stream",
     "text": [
      "[(3, -1), (5, -1), (7, -1), (9, -1), (11, -1)]\n"
     ]
    }
   ],
   "source": [
    "#7. Write a Python program to add two given lists and find the difference between them. Use the map() function.\n",
    "a=[1,2,3,4,5]\n",
    "b=[2,3,4,5,6]\n",
    "print(list(map(lambda x,y:(x+y,x-y),a,b)))"
   ]
  },
  {
   "cell_type": "code",
   "execution_count": 16,
   "id": "bb5b7b89",
   "metadata": {},
   "outputs": [
    {
     "name": "stdout",
     "output_type": "stream",
     "text": [
      "['1', '2', '3', '4', '5']\n"
     ]
    }
   ],
   "source": [
    "#8. Write a Python program to convert a given list of integers and a tuple of integers in a list of strings.\n",
    "a=[1,2,3,4,5]\n",
    "print(list(map(lambda x:str(x),a)))"
   ]
  },
  {
   "cell_type": "code",
   "execution_count": 19,
   "id": "06acb062",
   "metadata": {},
   "outputs": [
    {
     "name": "stdout",
     "output_type": "stream",
     "text": [
      "['Alberto Franco', 'Gino Mcneill', 'Ryan Parkes', 'Eesha Hinton']\n",
      "['15/05/2002', '17/05/2002', '16/02/1999', '25/09/1998']\n",
      "[35, 37, 39, 35]\n"
     ]
    }
   ],
   "source": [
    "#9. Write a Python program to create a new list taking specific elements from a tuple and \n",
    "# convert a string value to an integer.\n",
    "# Original data:\n",
    "# [('Alberto Franco', '15/05/2002', '35kg'), ('Gino Mcneill', '17/05/2002', '37kg'), ('Ryan Parkes', '16/02/1999', '39kg'), ('Eesha Hinton', '25/09/1998', '35kg')]\n",
    "\n",
    "# Student name:\n",
    "# ['Alberto Franco', 'Gino Mcneill', 'Ryan Parkes', 'Eesha Hinton']\n",
    "# Student name:\n",
    "# ['15/05/2002', '17/05/2002', '16/02/1999', '25/09/1998']\n",
    "# Student weight:\n",
    "# [35, 37, 39, 35]\n",
    "a=[('Alberto Franco', '15/05/2002', '35kg'), ('Gino Mcneill', '17/05/2002', '37kg'), ('Ryan Parkes', '16/02/1999', '39kg'), ('Eesha Hinton', '25/09/1998', '35kg')]\n",
    "print(list(map(lambda x:x[0],a)))\n",
    "print(list(map(lambda x:x[1],a)))\n",
    "print(list(map(lambda x:int(x[2][:-2]),a)))\n",
    "\n"
   ]
  },
  {
   "cell_type": "code",
   "execution_count": null,
   "id": "851f6ac9",
   "metadata": {},
   "outputs": [],
   "source": [
    "#10. Write a Python program to compute the square of the first N Fibonacci numbers, \n",
    "#using the map function and generate a list of the numbers.\n"
   ]
  },
  {
   "cell_type": "code",
   "execution_count": null,
   "id": "a685b523",
   "metadata": {},
   "outputs": [],
   "source": [
    "#11. Write a Python program to compute the sum of elements of an array of integers. Use the map() function."
   ]
  },
  {
   "cell_type": "code",
   "execution_count": 43,
   "id": "afc75dcd",
   "metadata": {},
   "outputs": [
    {
     "name": "stdout",
     "output_type": "stream",
     "text": [
      "[0.5384615384615384, 0.3076923076923077, 0.15384615384615385]\n"
     ]
    }
   ],
   "source": [
    "#12. Write a Python program to find the ratio of positive numbers, negative numbers and zeroes in an array of integers.\n",
    "a=[0, 1, 2, -1, -5, 6, 0, -3, -2, 3, 4, 6, 8]\n",
    "def ratio(a):\n",
    "    \n",
    "    z=0\n",
    "    p=0\n",
    "    n=0\n",
    "    for i in a:\n",
    "        if i==0:\n",
    "            z+=1\n",
    "        elif i>0:\n",
    "            p+=1\n",
    "        else:\n",
    "            n+=1\n",
    "    t=p+z+n\n",
    "    print(list(map(lambda x:x/t,(p,n,z))))\n",
    "ratio(a)"
   ]
  },
  {
   "cell_type": "code",
   "execution_count": 38,
   "id": "faa8df36",
   "metadata": {},
   "outputs": [
    {
     "name": "stdout",
     "output_type": "stream",
     "text": [
      "3\n",
      "3\n"
     ]
    }
   ],
   "source": [
    "#13. Write a Python program to count the same pair in two given lists. use map() function.\n",
    "from operator import eq\n",
    "a=[1,2,3,4,5,6]\n",
    "b=[1,3,4,4,2,6]\n",
    "print(sum(map(eq,a,b)))\n",
    "print(sum(x==y for x,y in zip(a,b)))"
   ]
  },
  {
   "cell_type": "code",
   "execution_count": null,
   "id": "328881e9",
   "metadata": {},
   "outputs": [],
   "source": [
    "#14. Write a Python program to interleave two lists into another list randomly. Use the map() function."
   ]
  },
  {
   "cell_type": "code",
   "execution_count": 35,
   "id": "2039127e",
   "metadata": {},
   "outputs": [
    {
     "name": "stdout",
     "output_type": "stream",
     "text": [
      "[(88, 77), (89, 78), (62, 84), (95, 80)]\n",
      "[88, 89, 62, 95] [77, 78, 84, 80]\n",
      "[{'Science': 88, 'Language': 77}, {'Science': 89, 'Language': 78}, {'Science': 62, 'Language': 84}, {'Science': 95, 'Language': 80}]\n"
     ]
    }
   ],
   "source": [
    "#15. Write a Python program to split a given dictionary of lists into list of dictionaries using the map function.\n",
    "# Original dictionary of lists:\n",
    "\n",
    "# {'Science': [88, 89, 62, 95], 'Language': [77, 78, 84, 80]}\n",
    "\n",
    "# Split said dictionary of lists into list of dictionaries:\n",
    "# [{'Science': 88, 'Language': 77}, {'Science': 89, 'Language': 78}, {'Science': 62, 'Language': 84}, \n",
    "#{'Science': 95, 'Language': 80}]\n",
    "a={'Science': [88, 89, 62, 95], 'Language': [77, 78, 84, 80]}\n",
    "print(list(zip(*a.values())))\n",
    "print(*a.values())   \n",
    "print(list(map(lambda x:dict(zip(a.keys(),x)),zip(*a.values()))))"
   ]
  },
  {
   "cell_type": "code",
   "execution_count": 28,
   "id": "dad2e212",
   "metadata": {},
   "outputs": [
    {
     "name": "stdout",
     "output_type": "stream",
     "text": [
      "[['a', 'l', 'i', 's', 'h', 'a'], ['a', 'r', 'p', 'i', 't'], ['h', 'd', 'd'], ['r', 'o', 'h', 'a', 'n']]\n"
     ]
    }
   ],
   "source": [
    "#16. Write a Python program to convert a given list of strings into a list of lists using the map function.\n",
    "a=['alisha','arpit','hdd','rohan']\n",
    "print(list(map(lambda x:[(x[i])for i in range(len(x))],a)))"
   ]
  },
  {
   "cell_type": "code",
   "execution_count": 25,
   "id": "67967f0d",
   "metadata": {},
   "outputs": [
    {
     "name": "stdout",
     "output_type": "stream",
     "text": [
      "['ab', 'hi', '56', '78']\n"
     ]
    }
   ],
   "source": [
    "#17. Write a Python program to convert a given list of tuples to a list of strings using the map function\n",
    "a=[('a','b'),('h','i'),(5,6),(7,8)]\n",
    "# b=list(map(lambda x:(str(x[0]),str(x[1])),a))\n",
    "print(list(map(''.join,b)))"
   ]
  },
  {
   "cell_type": "code",
   "execution_count": null,
   "id": "3af90516",
   "metadata": {},
   "outputs": [],
   "source": []
  }
 ],
 "metadata": {
  "kernelspec": {
   "display_name": "Python 3 (ipykernel)",
   "language": "python",
   "name": "python3"
  },
  "language_info": {
   "codemirror_mode": {
    "name": "ipython",
    "version": 3
   },
   "file_extension": ".py",
   "mimetype": "text/x-python",
   "name": "python",
   "nbconvert_exporter": "python",
   "pygments_lexer": "ipython3",
   "version": "3.11.4"
  }
 },
 "nbformat": 4,
 "nbformat_minor": 5
}
