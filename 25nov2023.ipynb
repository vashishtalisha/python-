{
 "cells": [
  {
   "cell_type": "code",
   "execution_count": 3,
   "id": "d84d2f8b",
   "metadata": {},
   "outputs": [
    {
     "data": {
      "text/plain": [
       "{'rajnish': 9, 'ravi': 10, 'sanjeev': 15, 'suraj': 32, 'yash': 2}"
      ]
     },
     "execution_count": 3,
     "metadata": {},
     "output_type": "execute_result"
    }
   ],
   "source": [
    "#Sort dict by key in python\n",
    "d={'ravi': 10, 'rajnish': 9, 'sanjeev': 15, 'yash': 2, 'suraj': 32}\n",
    "li=list(d.keys())\n",
    "li.sort()\n",
    "sorted_dict={i:d[i] for i in li}\n",
    "sorted_dict"
   ]
  },
  {
   "cell_type": "code",
   "execution_count": 4,
   "id": "50621934",
   "metadata": {},
   "outputs": [
    {
     "name": "stdout",
     "output_type": "stream",
     "text": [
      "OrderedDict([('rajnish', '9'), ('ravi', '10'), ('sanjeev', '15'), ('suraj', '32'), ('yash', '2')])\n"
     ]
    }
   ],
   "source": [
    "from collections import OrderedDict\n",
    "\n",
    "dict = {'ravi': '10', 'rajnish': '9',\n",
    "        'sanjeev': '15', 'yash': '2', 'suraj': '32'}\n",
    "dict1 = OrderedDict(sorted(dict.items()))\n",
    "print(dict1)\n"
   ]
  },
  {
   "cell_type": "code",
   "execution_count": 6,
   "id": "c38c97f5",
   "metadata": {},
   "outputs": [
    {
     "data": {
      "text/plain": [
       "600"
      ]
     },
     "execution_count": 6,
     "metadata": {},
     "output_type": "execute_result"
    }
   ],
   "source": [
    "#2.Given a dictionary in Python, write a Python program to find the sum of all items in the dictionary.\n",
    "a={'a': 100, 'b':200, 'c':300}\n",
    "b=list(a.values())\n",
    "sum(b)"
   ]
  },
  {
   "cell_type": "code",
   "execution_count": 8,
   "id": "455c48fb",
   "metadata": {},
   "outputs": [
    {
     "name": "stdout",
     "output_type": "stream",
     "text": [
      "600\n"
     ]
    }
   ],
   "source": [
    "#lambda and functools.reduce method\n",
    "'''\n",
    "Using functools.reduce:\n",
    "\n",
    "The functools.reduce function is applied to calculate the sum of values in the dictionary.\n",
    "The reduce function takes three arguments:\n",
    "The first argument is a function that performs the operation (in this case, addition).\n",
    "The second argument is an iterable (in this case, the keys of the dictionary).\n",
    "The third argument is the initial value of the accumulator (in this case, 0).\n",
    "Lambda Function:\n",
    "\n",
    "The lambda function lambda ac, k: ac + dic[k] takes two parameters, ac (accumulator) and k (key), and returns the sum of the accumulator and the value associated with the current key in the dictionary (dic[k]).\n",
    "The lambda function is applied to each element in the iterable (dictionary keys) during the reduction process.'''\n",
    "import functools\n",
    "a={'a': 100, 'b':200, 'c':300}\n",
    "print(functools.reduce(lambda ac,k:ac+a[k],a.keys(),0))"
   ]
  },
  {
   "cell_type": "code",
   "execution_count": null,
   "id": "2cca027f",
   "metadata": {},
   "outputs": [],
   "source": [
    "'''The dictionary dict is provided as the iterable. When a dictionary is used as an iterable in Python, \n",
    "it iterates over its keys.'''"
   ]
  },
  {
   "cell_type": "markdown",
   "id": "faa56e40",
   "metadata": {},
   "source": [
    "# 3.Dictionary keys with multiple values\n"
   ]
  },
  {
   "cell_type": "code",
   "execution_count": 9,
   "id": "f0db9a34",
   "metadata": {},
   "outputs": [
    {
     "name": "stdout",
     "output_type": "stream",
     "text": [
      "Enter x:2\n",
      "Enter y:3\n",
      "Enter z:4\n",
      "wanna continue?yes/no:yes\n",
      "Enter x:5\n",
      "Enter y:6\n",
      "Enter z:0\n",
      "wanna continue?yes/no:yes\n",
      "Enter x:1\n",
      "Enter y:10\n",
      "Enter z:20\n",
      "wanna continue?yes/no:no\n",
      "{(2, 3, 4): 1, (5, 6, 0): 11, (1, 10, 20): -9}\n"
     ]
    }
   ],
   "source": [
    "#eg.key=(a,b,c);value=a+b-c\n",
    "di={}\n",
    "while True:\n",
    "    x=int(input('Enter x:'))\n",
    "    y=int(input('Enter y:'))\n",
    "    z=int(input('Enter z:'))\n",
    "    di[(x,y,z)]=x+y-z\n",
    "    \n",
    "    a=input('wanna continue?yes/no:').lower()\n",
    "    if a!='yes':\n",
    "        break\n",
    "print(di)"
   ]
  },
  {
   "cell_type": "code",
   "execution_count": 10,
   "id": "42deff2d",
   "metadata": {},
   "outputs": [
    {
     "name": "stdout",
     "output_type": "stream",
     "text": [
      "[2, 5, 1] [3, 6, 10] [4, 0, 20] [1, 11, -9]\n"
     ]
    }
   ],
   "source": [
    "#traversing through this dictionary\n",
    "a={(2, 3, 4): 1, (5, 6, 0): 11, (1, 10, 20): -9}\n",
    "x=[]\n",
    "y=[]\n",
    "z=[]\n",
    "result=[]\n",
    "for i in a:\n",
    "    x.append(i[0])\n",
    "    y.append(i[1])\n",
    "    z.append(i[2])\n",
    "    result.append(a[i])\n",
    "print(x,y,z,result)\n",
    "    "
   ]
  },
  {
   "cell_type": "markdown",
   "id": "a90a709f",
   "metadata": {},
   "source": [
    "# 4. Get size of a Dictionary in Python"
   ]
  },
  {
   "cell_type": "code",
   "execution_count": 11,
   "id": "28b267c4",
   "metadata": {},
   "outputs": [
    {
     "name": "stdout",
     "output_type": "stream",
     "text": [
      "224\n"
     ]
    }
   ],
   "source": [
    "#getsizeof()-----will give size in BYTES\n",
    "import sys\n",
    "a={(2, 3, 4): 1, (5, 6, 0): 11, (1, 10, 20): -9}\n",
    "print(sys.getsizeof(a))"
   ]
  },
  {
   "cell_type": "code",
   "execution_count": 12,
   "id": "58279ae2",
   "metadata": {},
   "outputs": [
    {
     "name": "stdout",
     "output_type": "stream",
     "text": [
      "208\n"
     ]
    }
   ],
   "source": [
    "a={(2, 3, 4): 1, (5, 6, 0): 11, (1, 10, 20): -9}\n",
    "print(a.__sizeof__())"
   ]
  },
  {
   "cell_type": "code",
   "execution_count": null,
   "id": "0c069e32",
   "metadata": {},
   "outputs": [],
   "source": [
    "'''\n",
    "sys.getsizeof(a) takes into account the memory consumed by the object itself and the objects it refers to \n",
    "(like the keys and values in a dictionary). It provides a more comprehensive size measurement, including the \n",
    "overhead of the data structure and any additional memory consumed by the objects it references.\n",
    "\n",
    "On the other hand, a.__sizeof__() specifically returns the memory consumed by the object itself,\n",
    "not including the memory of the objects it references. It gives a more focused size measurement that doesn't\n",
    "consider the contents of the object.'''"
   ]
  },
  {
   "cell_type": "markdown",
   "id": "d6d626a4",
   "metadata": {},
   "source": [
    "# 5.Merging two Dictionaries"
   ]
  },
  {
   "cell_type": "code",
   "execution_count": 20,
   "id": "36964d2f",
   "metadata": {},
   "outputs": [
    {
     "data": {
      "text/plain": [
       "{'a': 10, 'b': 8, 'd': 6, 'c': 4}"
      ]
     },
     "execution_count": 20,
     "metadata": {},
     "output_type": "execute_result"
    }
   ],
   "source": [
    "#update\n",
    "dict1 = {'a': 10, 'b': 8}\n",
    "dict2 = {'d': 6, 'c': 4}\n",
    "dict1.update(dict2)\n",
    "dict1"
   ]
  },
  {
   "cell_type": "code",
   "execution_count": 21,
   "id": "f4ad47b3",
   "metadata": {},
   "outputs": [
    {
     "name": "stdout",
     "output_type": "stream",
     "text": [
      "None\n"
     ]
    }
   ],
   "source": [
    "dict1 = {'a': 10, 'b': 8}\n",
    "dict2 = {'d': 6, 'c': 4}\n",
    "a=dict1.update(dict2)\n",
    "print(a)"
   ]
  },
  {
   "cell_type": "code",
   "execution_count": 22,
   "id": "62d07a57",
   "metadata": {},
   "outputs": [
    {
     "name": "stdout",
     "output_type": "stream",
     "text": [
      "None\n",
      "{'d': 6, 'c': 4, 'a': 10, 'b': 8}\n"
     ]
    }
   ],
   "source": [
    "# Python code to merge dict using update() method\n",
    "def Merge(dict1, dict2):\n",
    "    return(dict2.update(dict1))\n",
    " \n",
    " \n",
    "# Driver code\n",
    "dict1 = {'a': 10, 'b': 8}\n",
    "dict2 = {'d': 6, 'c': 4}\n",
    " \n",
    "# This returns None\n",
    "print(Merge(dict1, dict2))\n",
    " \n",
    "# changes made in dict2\n",
    "print(dict2)\n"
   ]
  },
  {
   "cell_type": "code",
   "execution_count": 32,
   "id": "98d36e80",
   "metadata": {},
   "outputs": [
    {
     "name": "stdout",
     "output_type": "stream",
     "text": [
      "{('d', 6), ('a', 10), ('c', 4), ('b', 8)}\n",
      "{'a': 10, 'b': 8, 'd': 6, 'c': 4}\n"
     ]
    }
   ],
   "source": [
    "#union operator\n",
    "dict1 = {'a': 10, 'b': 8}\n",
    "dict2 = {'d': 6, 'c': 4}\n",
    "q=dict1.items()|dict2.items()\n",
    "print(q)\n",
    "#or\n",
    "print(dict1|dict2)\n"
   ]
  },
  {
   "cell_type": "code",
   "execution_count": 26,
   "id": "da9840b0",
   "metadata": {},
   "outputs": [
    {
     "name": "stdout",
     "output_type": "stream",
     "text": [
      "1\n",
      "3\n",
      "5\n",
      "6\n"
     ]
    }
   ],
   "source": [
    "#chainmap class\n",
    "'''This class allows you to create a single view of multiple dictionaries,\n",
    "and any updates or changes made to the ChainMap will be reflected in the underlying dictionaries.'''\n",
    "from collections import ChainMap\n",
    " \n",
    "# create the dictionaries to be merged\n",
    "dict1 = {'a': 1, 'b': 2}\n",
    "dict2 = {'c': 3, 'd': 4}\n",
    " \n",
    "# create a ChainMap with the dictionaries as elements\n",
    "merged_dict = ChainMap(dict1, dict2)\n",
    " \n",
    "# access and modify elements in the merged dictionary\n",
    "print(merged_dict['a'])  # prints 1\n",
    "print(merged_dict['c'])  # prints 3\n",
    "merged_dict['c'] = 5  # updates value in dict2\n",
    "print(merged_dict['c'])  # prints 5\n",
    " \n",
    "# add a new key-value pair to the merged dictionary\n",
    "merged_dict['e'] = 6  # updates dict1\n",
    "print(merged_dict['e'])  # prints 6"
   ]
  },
  {
   "cell_type": "markdown",
   "id": "6383b1e2",
   "metadata": {},
   "source": [
    "## 6. optimised code for grade calculator"
   ]
  }
 ],
 "metadata": {
  "kernelspec": {
   "display_name": "Python 3 (ipykernel)",
   "language": "python",
   "name": "python3"
  },
  "language_info": {
   "codemirror_mode": {
    "name": "ipython",
    "version": 3
   },
   "file_extension": ".py",
   "mimetype": "text/x-python",
   "name": "python",
   "nbconvert_exporter": "python",
   "pygments_lexer": "ipython3",
   "version": "3.11.4"
  }
 },
 "nbformat": 4,
 "nbformat_minor": 5
}
